{
 "cells": [
  {
   "cell_type": "code",
   "execution_count": 1,
   "id": "0771de89",
   "metadata": {},
   "outputs": [],
   "source": [
    "# Import the random module.\n",
    "import random"
   ]
  },
  {
   "cell_type": "code",
   "execution_count": 2,
   "id": "f6c79818",
   "metadata": {},
   "outputs": [
    {
     "data": {
      "text/plain": [
       "86"
      ]
     },
     "execution_count": 2,
     "metadata": {},
     "output_type": "execute_result"
    }
   ],
   "source": [
    "#is short for random integer.\n",
    "random.randint(-90, 90)"
   ]
  },
  {
   "cell_type": "code",
   "execution_count": 3,
   "id": "a3251026",
   "metadata": {},
   "outputs": [
    {
     "data": {
      "text/plain": [
       "0.72321030803254"
      ]
     },
     "execution_count": 3,
     "metadata": {},
     "output_type": "execute_result"
    }
   ],
   "source": [
    "#single floating-point decimal number between 0 and 1.0.\n",
    "random.random()"
   ]
  },
  {
   "cell_type": "code",
   "execution_count": 4,
   "id": "42f37d3d",
   "metadata": {},
   "outputs": [
    {
     "data": {
      "text/plain": [
       "-32.255412448057626"
      ]
     },
     "execution_count": 4,
     "metadata": {},
     "output_type": "execute_result"
    }
   ],
   "source": [
    "random_number = random.randint(-90, 89) + random.random()\n",
    "random_number"
   ]
  },
  {
   "cell_type": "code",
   "execution_count": 5,
   "id": "3bc55011",
   "metadata": {},
   "outputs": [],
   "source": [
    "x = 1\n",
    "latitudes = []\n",
    "while x < 11:\n",
    "    random_lat = random.randint(-90, 89) + random.random()\n",
    "    latitudes.append(random_lat)\n",
    "    x += 1"
   ]
  },
  {
   "cell_type": "code",
   "execution_count": 6,
   "id": "46830fee",
   "metadata": {},
   "outputs": [
    {
     "data": {
      "text/plain": [
       "[-62.12291496233968,\n",
       " 47.93042663833889,\n",
       " -57.743961886295786,\n",
       " -21.302780012503888,\n",
       " 68.14336838723321,\n",
       " 55.77432148656475,\n",
       " 69.23921310576794,\n",
       " 32.65253177222499,\n",
       " 58.47605833043055,\n",
       " -73.32028425414302]"
      ]
     },
     "execution_count": 6,
     "metadata": {},
     "output_type": "execute_result"
    }
   ],
   "source": [
    "latitudes"
   ]
  },
  {
   "cell_type": "code",
   "execution_count": 19,
   "id": "7765bc8e",
   "metadata": {},
   "outputs": [
    {
     "data": {
      "text/plain": [
       "-30"
      ]
     },
     "execution_count": 19,
     "metadata": {},
     "output_type": "execute_result"
    }
   ],
   "source": [
    "random.randrange(-90, 90, step=3)"
   ]
  },
  {
   "cell_type": "code",
   "execution_count": 33,
   "id": "1c02f35a",
   "metadata": {},
   "outputs": [
    {
     "data": {
      "text/plain": [
       "-57.69248898770149"
      ]
     },
     "execution_count": 33,
     "metadata": {},
     "output_type": "execute_result"
    }
   ],
   "source": [
    "random.uniform(-90, 90)"
   ]
  },
  {
   "cell_type": "code",
   "execution_count": 34,
   "id": "854bf0e7",
   "metadata": {},
   "outputs": [],
   "source": [
    "# Import the NumPy module.\n",
    "import numpy as np"
   ]
  },
  {
   "cell_type": "code",
   "execution_count": 35,
   "id": "c22f45fe",
   "metadata": {},
   "outputs": [
    {
     "data": {
      "text/plain": [
       "22.317822187954306"
      ]
     },
     "execution_count": 35,
     "metadata": {},
     "output_type": "execute_result"
    }
   ],
   "source": [
    "np.random.uniform(-90.000, 90.000)"
   ]
  },
  {
   "cell_type": "code",
   "execution_count": 37,
   "id": "836c04ea",
   "metadata": {},
   "outputs": [
    {
     "data": {
      "text/plain": [
       "40.903436040153"
      ]
     },
     "execution_count": 37,
     "metadata": {},
     "output_type": "execute_result"
    }
   ],
   "source": [
    "#another option\n",
    "np.random.uniform(low=-90, high=90)"
   ]
  },
  {
   "cell_type": "code",
   "execution_count": 38,
   "id": "3d8345c1",
   "metadata": {},
   "outputs": [
    {
     "data": {
      "text/plain": [
       "array([-29.14279297, -74.12656363,  75.97440928,  46.64626848,\n",
       "       -71.44005763, -61.64102263, -84.40145267, -81.05805226,\n",
       "       -65.63582767,   3.7206188 ,   8.44975742,   8.88536257,\n",
       "        70.68504299,  -3.88723107,  83.23497556,  71.73104671,\n",
       "       -12.857896  , -49.96721933, -10.46836039, -73.87222281,\n",
       "        12.24135709,   9.13827054,  -9.81688882,  39.91270879,\n",
       "       -69.37319341, -79.52066689, -52.05389832, -35.14585992,\n",
       "       -44.98565159,  -4.66592481, -84.19223958,  83.61615299,\n",
       "        57.95789169,  -2.53513506, -64.74121051,  76.23102924,\n",
       "       -21.66392438,  79.335287  , -80.81521301,  -8.76301255,\n",
       "        83.65937292,  38.47359371, -56.52851163,  49.58089025,\n",
       "       -89.36212763,  88.57226195, -88.71050892,  60.30715103,\n",
       "       -18.72229485, -54.23140126])"
      ]
     },
     "execution_count": 38,
     "metadata": {},
     "output_type": "execute_result"
    }
   ],
   "source": [
    "#The output is an array of 50 floating-point decimal numbers between -90.000 and 90.000\n",
    "np.random.uniform(-90.000, 90.000, size=50)"
   ]
  },
  {
   "cell_type": "code",
   "execution_count": 41,
   "id": "72c94d4c",
   "metadata": {},
   "outputs": [],
   "source": [
    "# Import timeit.\n",
    "import timeit\n"
   ]
  },
  {
   "cell_type": "code",
   "execution_count": 42,
   "id": "6a6ecc16",
   "metadata": {},
   "outputs": [
    {
     "name": "stdout",
     "output_type": "stream",
     "text": [
      "21.6 µs ± 216 ns per loop (mean ± std. dev. of 7 runs, 10000 loops each)\n"
     ]
    }
   ],
   "source": [
    "%timeit np.random.uniform(-90.000, 90.000, size=1500)"
   ]
  },
  {
   "cell_type": "code",
   "execution_count": 43,
   "id": "f02f9ee3",
   "metadata": {},
   "outputs": [
    {
     "name": "stdout",
     "output_type": "stream",
     "text": [
      "3.13 ms ± 182 µs per loop (mean ± std. dev. of 7 runs, 100 loops each)\n"
     ]
    }
   ],
   "source": [
    "def latitudes(size):\n",
    "    latitudes = []\n",
    "    x = 0\n",
    "    while x < (size):\n",
    "        random_lat = random.randint(-90, 90) + random.random()\n",
    "        latitudes.append(random_lat)\n",
    "        x += 1\n",
    "    return latitudes\n",
    "# Call the function with 1500.\n",
    "%timeit latitudes(1500)"
   ]
  },
  {
   "cell_type": "code",
   "execution_count": null,
   "id": "eca9f5f2",
   "metadata": {},
   "outputs": [],
   "source": []
  }
 ],
 "metadata": {
  "kernelspec": {
   "display_name": "PythonData",
   "language": "python",
   "name": "pythondata"
  },
  "language_info": {
   "codemirror_mode": {
    "name": "ipython",
    "version": 3
   },
   "file_extension": ".py",
   "mimetype": "text/x-python",
   "name": "python",
   "nbconvert_exporter": "python",
   "pygments_lexer": "ipython3",
   "version": "3.7.11"
  }
 },
 "nbformat": 4,
 "nbformat_minor": 5
}
